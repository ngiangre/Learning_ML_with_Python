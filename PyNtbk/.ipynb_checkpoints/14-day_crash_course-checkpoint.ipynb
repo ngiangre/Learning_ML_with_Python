{
 "cells": [
  {
   "cell_type": "code",
   "execution_count": 2,
   "metadata": {
    "collapsed": false
   },
   "outputs": [
    {
     "name": "stdout",
     "output_type": "stream",
     "text": [
      "Python: 3.5.2 |Anaconda 4.2.0 (x86_64)| (default, Jul  2 2016, 17:52:12) \n",
      "[GCC 4.2.1 Compatible Apple LLVM 4.2 (clang-425.0.28)]\n",
      "scipy: 0.18.1\n",
      "numpy: 1.11.1\n",
      "matplotlib: 1.5.3\n",
      "pandas: 0.18.1\n",
      "sklearn: 0.17.1\n",
      "   one  two  three\n",
      "a    1    2      3\n",
      "b    4    5      6\n"
     ]
    }
   ],
   "source": [
    "####################\n",
    "#14-day ML in Python crash course \n",
    "#from Jason Brownlee's e-book\n",
    "####################\n",
    "\n",
    "## Lesson 1:\n",
    "## Download and Install Python and SciPy ecosystem\n",
    "\n",
    "# Python version\n",
    "import sys\n",
    "print('Python: {}'.format(sys.version))\n",
    "# scipy\n",
    "import scipy\n",
    "print('scipy: {}'.format(scipy.__version__))\n",
    "# numpy\n",
    "import numpy\n",
    "print('numpy: {}'.format(numpy.__version__))\n",
    "# matplotlib\n",
    "import matplotlib\n",
    "print('matplotlib: {}'.format(matplotlib.__version__))\n",
    "# pandas\n",
    "import pandas\n",
    "print('pandas: {}'.format(pandas.__version__))\n",
    "# scikit-learn\n",
    "import sklearn\n",
    "print('sklearn: {}'.format(sklearn.__version__))\n",
    "\n",
    "## Day 2\n",
    "## Get around in Python, NumPy, Matplotlib and Pandas\n",
    "\n",
    "#dataframe\n",
    "import numpy\n",
    "import pandas\n",
    "myarray = numpy.array([[1,2,3], [4,5,6]])\n",
    "rownames = ['a', 'b']\n",
    "colnames = ['one', 'two','three']\n",
    "mydataframe = pandas.DataFrame(myarray, index=rownames, columns=colnames)\n",
    "print(mydataframe)\n"
   ]
  },
  {
   "cell_type": "code",
   "execution_count": null,
   "metadata": {
    "collapsed": true
   },
   "outputs": [],
   "source": []
  }
 ],
 "metadata": {
  "anaconda-cloud": {},
  "kernelspec": {
   "display_name": "Python [default]",
   "language": "python",
   "name": "python3"
  },
  "language_info": {
   "codemirror_mode": {
    "name": "ipython",
    "version": 3
   },
   "file_extension": ".py",
   "mimetype": "text/x-python",
   "name": "python",
   "nbconvert_exporter": "python",
   "pygments_lexer": "ipython3",
   "version": "3.5.2"
  }
 },
 "nbformat": 4,
 "nbformat_minor": 1
}
