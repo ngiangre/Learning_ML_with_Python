{
 "cells": [
  {
   "cell_type": "code",
   "execution_count": 6,
   "metadata": {
    "collapsed": false
   },
   "outputs": [
    {
     "name": "stdout",
     "output_type": "stream",
     "text": [
      "\n",
      "Model:\n",
      "\n",
      " LogisticRegression(C=1.0, class_weight=None, dual=False, fit_intercept=True,\n",
      "          intercept_scaling=1, max_iter=100, multi_class='ovr', n_jobs=1,\n",
      "          penalty='l2', random_state=None, solver='liblinear', tol=0.0001,\n",
      "          verbose=0, warm_start=False) \n",
      "\n",
      "\n",
      "Classification Report\n",
      "\n",
      "             precision    recall  f1-score   support\n",
      "\n",
      "          0       1.00      1.00      1.00        50\n",
      "          1       0.98      0.90      0.94        50\n",
      "          2       0.91      0.98      0.94        50\n",
      "\n",
      "avg / total       0.96      0.96      0.96       150\n",
      "\n",
      "\n",
      "Confusion Matrix\n",
      "\n",
      "[[50  0  0]\n",
      " [ 0 45  5]\n",
      " [ 0  1 49]]\n"
     ]
    }
   ],
   "source": [
    "########################################\n",
    "#Logistic_Regression_Example\n",
    "#\n",
    "#Logistic regression fits a logistic model to \n",
    "#data and makes predictions about the probability \n",
    "#of an event (between 0 and 1).\n",
    "#\n",
    "#http://machinelearningmastery.com/get-your-hands-dirty-with-scikit-learn-now/\n",
    "########################################\n",
    "\n",
    "# Logistic Regression\n",
    "from sklearn import datasets\n",
    "from sklearn import metrics\n",
    "from sklearn.linear_model import LogisticRegression\n",
    "# load the iris datasets\n",
    "dataset = datasets.load_iris()\n",
    "# fit a logistic regression model to the data\n",
    "model = LogisticRegression()\n",
    "model.fit(dataset.data, dataset.target)\n",
    "print(\"\\nModel:\\n\\n\",model,\"\\n\")\n",
    "# make predictions\n",
    "expected = dataset.target\n",
    "predicted = model.predict(dataset.data)\n",
    "# summarize the fit of the model\n",
    "print(\"\\nClassification Report\\n\")\n",
    "print(metrics.classification_report(expected, predicted))\n",
    "print(\"\\nConfusion Matrix\\n\")\n",
    "print(metrics.confusion_matrix(expected, predicted))"
   ]
  },
  {
   "cell_type": "code",
   "execution_count": 12,
   "metadata": {
    "collapsed": false
   },
   "outputs": [
    {
     "name": "stdout",
     "output_type": "stream",
     "text": [
      "\n",
      "Model:\n",
      "\n",
      " LogisticRegression(C=1.0, class_weight=None, dual=False, fit_intercept=True,\n",
      "          intercept_scaling=1, max_iter=100, multi_class='ovr', n_jobs=1,\n",
      "          penalty='l2', random_state=None, solver='liblinear', tol=0.0001,\n",
      "          verbose=0, warm_start=False) \n",
      "\n",
      "\n",
      "Classification Report\n",
      "\n",
      "             precision    recall  f1-score   support\n",
      "\n",
      "          0       0.96      0.93      0.94       212\n",
      "          1       0.96      0.97      0.97       357\n",
      "\n",
      "avg / total       0.96      0.96      0.96       569\n",
      "\n",
      "\n",
      "Confusion Matrix\n",
      "\n",
      "[[197  15]\n",
      " [  9 348]]\n"
     ]
    }
   ],
   "source": [
    "########################################\n",
    "#Logistic_Regression_Example\n",
    "#\n",
    "#using a different dataset\n",
    "########################################\n",
    "from sklearn import datasets\n",
    "from sklearn import metrics\n",
    "from sklearn.linear_model import LogisticRegression\n",
    "# Step 1: load dataset into environment\n",
    "# load the breast cancer dataset 569 samples x 30 features\n",
    "dataset = datasets.load_breast_cancer()\n",
    "# Step 2: Instantiate our model which is logistic regression\n",
    "model = LogisticRegression()\n",
    "# Step 3: Fit our model to our data - since model is an object\n",
    "# we just call a function to change the object attributes\n",
    "model.fit(dataset.data, dataset.target)\n",
    "print(\"\\nModel:\\n\\n\",model,\"\\n\")\n",
    "# Step 4: Make predictions - save our annotated classes\n",
    "# and predict the classes from the data\n",
    "expected = dataset.target\n",
    "predicted = model.predict(dataset.data)\n",
    "# step 5: summarize the fit of the model\n",
    "print(\"\\nClassification Report\\n\")\n",
    "print(metrics.classification_report(expected, predicted))\n",
    "print(\"\\nConfusion Matrix\\n\")\n",
    "print(metrics.confusion_matrix(expected, predicted))"
   ]
  },
  {
   "cell_type": "code",
   "execution_count": null,
   "metadata": {
    "collapsed": true
   },
   "outputs": [],
   "source": []
  }
 ],
 "metadata": {
  "anaconda-cloud": {},
  "kernelspec": {
   "display_name": "Python [default]",
   "language": "python",
   "name": "python3"
  },
  "language_info": {
   "codemirror_mode": {
    "name": "ipython",
    "version": 3
   },
   "file_extension": ".py",
   "mimetype": "text/x-python",
   "name": "python",
   "nbconvert_exporter": "python",
   "pygments_lexer": "ipython3",
   "version": "3.5.2"
  }
 },
 "nbformat": 4,
 "nbformat_minor": 1
}
